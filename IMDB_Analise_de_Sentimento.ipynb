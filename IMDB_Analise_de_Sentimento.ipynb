{
  "nbformat": 4,
  "nbformat_minor": 0,
  "metadata": {
    "colab": {
      "name": "IMDB_Analise_de_Sentimento.ipynb",
      "provenance": [],
      "collapsed_sections": [],
      "toc_visible": true,
      "authorship_tag": "ABX9TyNtyJEXGoBAwNif/Q44ifQG",
      "include_colab_link": true
    },
    "kernelspec": {
      "name": "python3",
      "display_name": "Python 3"
    }
  },
  "cells": [
    {
      "cell_type": "markdown",
      "metadata": {
        "id": "view-in-github",
        "colab_type": "text"
      },
      "source": [
        "<a href=\"https://colab.research.google.com/github/beatrizalbiero/NLPNeuronWorkshop/blob/master/IMDB_Analise_de_Sentimento.ipynb\" target=\"_parent\"><img src=\"https://colab.research.google.com/assets/colab-badge.svg\" alt=\"Open In Colab\"/></a>"
      ]
    },
    {
      "cell_type": "markdown",
      "metadata": {
        "id": "AESTP1an9WNn",
        "colab_type": "text"
      },
      "source": [
        "\n",
        "# Bootcamp Neuron 2020\n",
        "\n",
        "\\\\\n",
        "\n",
        "**Autora**: Beatriz Albiero \n",
        "\n",
        "**Bio**: Possui graduação em Estatística e mestrado em Linguística Computacional (ambos pela USP). No mercado, atua como cientista de dados tendo participado de projetos diversos como: detecção de fraude, desenvolvimento de scores de crédito, estudos não supervisionados de análise de diálogos e construção de agentes conversacionais. Se interessa especialmente pelo desenvolvimento responsável de modelos de IA.\n",
        "\n",
        "**Linkedin**: https://www.linkedin.com/in/beatriz-albiero/\n",
        "\n",
        "**E-mail**: beatrizalbiero1@gmail.com:\n",
        "\n",
        "\\\\\n",
        "\n"
      ]
    },
    {
      "cell_type": "markdown",
      "metadata": {
        "id": "4tM2fjBDioSh",
        "colab_type": "text"
      },
      "source": [
        "# Overview NLP"
      ]
    },
    {
      "cell_type": "markdown",
      "metadata": {
        "id": "jEqj3c_-iupN",
        "colab_type": "text"
      },
      "source": [
        "- É um ramo dentro do machine learning voltado para as tarefas que contém **texto** como features de interesse\n",
        "\n",
        "- Detecção de fraudes em email\n",
        "\n",
        "- Clusterização de tweets, diálogos, etc\n",
        "\n",
        "- Agentes conversacionais"
      ]
    },
    {
      "cell_type": "markdown",
      "metadata": {
        "id": "4utFBNhyjaB-",
        "colab_type": "text"
      },
      "source": [
        "# Análise de Sentimentos\n"
      ]
    },
    {
      "cell_type": "markdown",
      "metadata": {
        "id": "MKpCMSuksEkm",
        "colab_type": "text"
      },
      "source": [
        "Neste case vamos falar sobre uma área dentro de NLP conhecida como Análise de Sentimento.  É uma tarefa bastante comum, principalmente na área de marketing. A ideia é basicamente tentar extrair a partir de um texto o \"sentimento\" da pessoa que o escreveu. Essencialmente, podemos considerar um sentimento como sento positivo ou negativo. Porém, é claro que existe muito mais nuance do que isso. É comum também trabalharem com sentimentos negativos, positivos e neutros."
      ]
    },
    {
      "cell_type": "markdown",
      "metadata": {
        "id": "V2EtzOZEtS2h",
        "colab_type": "text"
      },
      "source": [
        "A tarefa de análise de sentimento é (normalmente) considerada uma tarefa de classificação de texto. Procura-se identificar nas frases, palavras como \"bom\", \"ótimo\", \"gostei\", para classificar um comentário como positivo. Entretanto, essa tarefa pode ser bem complicada. Considere as frases abaixo:\n",
        "\n",
        "- \"não gostei desse filme\"\n",
        "- \"seria ótimo se não tivessem estragado tudo no final\"\n",
        "- \"até que foi bom, mas deixou algumas coisas a desejar\""
      ]
    },
    {
      "cell_type": "markdown",
      "metadata": {
        "id": "LoxgogglufXm",
        "colab_type": "text"
      },
      "source": [
        "Existem muitas formas de atacar esse problema. Aqui vão algumas referências:\n"
      ]
    },
    {
      "cell_type": "markdown",
      "metadata": {
        "id": "PGCuGRMkz_M9",
        "colab_type": "text"
      },
      "source": [
        "- [Speech and Language Processing - D. Jurafsky and J. Martin](https://web.stanford.edu/~jurafsky/slp3/4.pdf)\n",
        "\n",
        "- [Natural Language Processing with Python - Steven Bird](https://www.nltk.org/book/)\n",
        "\n",
        "- [Foundations of Statistical Natural Language Processing - C. Manning](https://nlp.stanford.edu/fsnlp/)"
      ]
    },
    {
      "cell_type": "markdown",
      "metadata": {
        "id": "nhzVp0RdwVfH",
        "colab_type": "text"
      },
      "source": [
        "# Problema"
      ]
    },
    {
      "cell_type": "markdown",
      "metadata": {
        "id": "8U8ct0N7wZpY",
        "colab_type": "text"
      },
      "source": [
        "Vamos trabalhar com um dataset do IMDB com reviews de filmes. O dataset é composto por várias sentenças que são comentários sobre filmes e marcações de negativo (0) ou positivo (1). O dataset é equilibrado para os targets. "
      ]
    },
    {
      "cell_type": "markdown",
      "metadata": {
        "id": "_R3bBPwHSNCA",
        "colab_type": "text"
      },
      "source": [
        "# Imports"
      ]
    },
    {
      "cell_type": "code",
      "metadata": {
        "id": "cAx2j1bJ9qQa",
        "colab_type": "code",
        "colab": {
          "base_uri": "https://localhost:8080/",
          "height": 445
        },
        "outputId": "af4524f9-eff7-4709-c44e-b7fea1cbf75f"
      },
      "source": [
        "!pip install mglearn==0.1.9"
      ],
      "execution_count": 1,
      "outputs": [
        {
          "output_type": "stream",
          "text": [
            "Collecting mglearn==0.1.9\n",
            "\u001b[?25l  Downloading https://files.pythonhosted.org/packages/65/38/8aced26fce0b2ae82c3c87cd3b6105f38ca6d9d51704ecc44aa54473e6b9/mglearn-0.1.9.tar.gz (540kB)\n",
            "\u001b[K     |████████████████████████████████| 542kB 2.8MB/s \n",
            "\u001b[?25hRequirement already satisfied: numpy in /usr/local/lib/python3.6/dist-packages (from mglearn==0.1.9) (1.18.5)\n",
            "Requirement already satisfied: matplotlib in /usr/local/lib/python3.6/dist-packages (from mglearn==0.1.9) (3.2.2)\n",
            "Requirement already satisfied: scikit-learn in /usr/local/lib/python3.6/dist-packages (from mglearn==0.1.9) (0.22.2.post1)\n",
            "Requirement already satisfied: pandas in /usr/local/lib/python3.6/dist-packages (from mglearn==0.1.9) (1.0.5)\n",
            "Requirement already satisfied: pillow in /usr/local/lib/python3.6/dist-packages (from mglearn==0.1.9) (7.0.0)\n",
            "Requirement already satisfied: cycler in /usr/local/lib/python3.6/dist-packages (from mglearn==0.1.9) (0.10.0)\n",
            "Requirement already satisfied: imageio in /usr/local/lib/python3.6/dist-packages (from mglearn==0.1.9) (2.4.1)\n",
            "Requirement already satisfied: joblib in /usr/local/lib/python3.6/dist-packages (from mglearn==0.1.9) (0.16.0)\n",
            "Requirement already satisfied: kiwisolver>=1.0.1 in /usr/local/lib/python3.6/dist-packages (from matplotlib->mglearn==0.1.9) (1.2.0)\n",
            "Requirement already satisfied: python-dateutil>=2.1 in /usr/local/lib/python3.6/dist-packages (from matplotlib->mglearn==0.1.9) (2.8.1)\n",
            "Requirement already satisfied: pyparsing!=2.0.4,!=2.1.2,!=2.1.6,>=2.0.1 in /usr/local/lib/python3.6/dist-packages (from matplotlib->mglearn==0.1.9) (2.4.7)\n",
            "Requirement already satisfied: scipy>=0.17.0 in /usr/local/lib/python3.6/dist-packages (from scikit-learn->mglearn==0.1.9) (1.4.1)\n",
            "Requirement already satisfied: pytz>=2017.2 in /usr/local/lib/python3.6/dist-packages (from pandas->mglearn==0.1.9) (2018.9)\n",
            "Requirement already satisfied: six in /usr/local/lib/python3.6/dist-packages (from cycler->mglearn==0.1.9) (1.15.0)\n",
            "Building wheels for collected packages: mglearn\n",
            "  Building wheel for mglearn (setup.py) ... \u001b[?25l\u001b[?25hdone\n",
            "  Created wheel for mglearn: filename=mglearn-0.1.9-py2.py3-none-any.whl size=582639 sha256=f16dd797a601f3359fec83d9798c34c951b810765f5d967dd6426e4076fa3809\n",
            "  Stored in directory: /root/.cache/pip/wheels/eb/a6/ea/a6a3716233fa62fc561259b5cb1e28f79e9ff3592c0adac5f0\n",
            "Successfully built mglearn\n",
            "Installing collected packages: mglearn\n",
            "Successfully installed mglearn-0.1.9\n"
          ],
          "name": "stdout"
        }
      ]
    },
    {
      "cell_type": "code",
      "metadata": {
        "id": "evMwjyqgSIvF",
        "colab_type": "code",
        "colab": {
          "base_uri": "https://localhost:8080/",
          "height": 71
        },
        "outputId": "554e0548-904f-4e62-cffd-39e7ef8d973c"
      },
      "source": [
        "from sklearn.datasets import load_files\n",
        "from sklearn.feature_extraction.text import TfidfVectorizer\n",
        "from sklearn.linear_model import LogisticRegression\n",
        "from sklearn.model_selection import GridSearchCV\n",
        "from sklearn.pipeline import make_pipeline\n",
        "from sklearn.metrics import confusion_matrix, classification_report, roc_curve, auc\n",
        "import matplotlib.pyplot as plt\n",
        "import numpy as np\n",
        "import pandas as pd\n",
        "import mglearn\n",
        "import seaborn as sns"
      ],
      "execution_count": 2,
      "outputs": [
        {
          "output_type": "stream",
          "text": [
            "/usr/local/lib/python3.6/dist-packages/statsmodels/tools/_testing.py:19: FutureWarning: pandas.util.testing is deprecated. Use the functions in the public API at pandas.testing instead.\n",
            "  import pandas.util.testing as tm\n"
          ],
          "name": "stderr"
        }
      ]
    },
    {
      "cell_type": "markdown",
      "metadata": {
        "id": "5FLZhC4dihFZ",
        "colab_type": "text"
      },
      "source": [
        "# Download e Preparação dos Dados"
      ]
    },
    {
      "cell_type": "code",
      "metadata": {
        "id": "yrBGxD74iEly",
        "colab_type": "code",
        "colab": {
          "base_uri": "https://localhost:8080/",
          "height": 204
        },
        "outputId": "f075fe30-960e-4814-8ca5-1e5a0480d9b3"
      },
      "source": [
        "!wget http://ai.stanford.edu/~amaas/data/sentiment/aclImdb_v1.tar.gz"
      ],
      "execution_count": 3,
      "outputs": [
        {
          "output_type": "stream",
          "text": [
            "--2020-09-09 18:03:02--  http://ai.stanford.edu/~amaas/data/sentiment/aclImdb_v1.tar.gz\n",
            "Resolving ai.stanford.edu (ai.stanford.edu)... 171.64.68.10\n",
            "Connecting to ai.stanford.edu (ai.stanford.edu)|171.64.68.10|:80... connected.\n",
            "HTTP request sent, awaiting response... 200 OK\n",
            "Length: 84125825 (80M) [application/x-gzip]\n",
            "Saving to: ‘aclImdb_v1.tar.gz’\n",
            "\n",
            "aclImdb_v1.tar.gz   100%[===================>]  80.23M  21.9MB/s    in 4.6s    \n",
            "\n",
            "2020-09-09 18:03:07 (17.4 MB/s) - ‘aclImdb_v1.tar.gz’ saved [84125825/84125825]\n",
            "\n"
          ],
          "name": "stdout"
        }
      ]
    },
    {
      "cell_type": "code",
      "metadata": {
        "id": "ZAvR4hQ1iHc3",
        "colab_type": "code",
        "colab": {}
      },
      "source": [
        "! tar -xf aclImdb_v1.tar.gz"
      ],
      "execution_count": 4,
      "outputs": []
    },
    {
      "cell_type": "code",
      "metadata": {
        "id": "hu9W9G1BSMH5",
        "colab_type": "code",
        "colab": {
          "base_uri": "https://localhost:8080/",
          "height": 105
        },
        "outputId": "779845af-6d42-4ab2-e208-cb98bf57195b"
      },
      "source": [
        "reviews_train = load_files(\"aclImdb/train/\")\n",
        "# load_files returns a bunch, containing training texts and training labels \n",
        "text_train, y_train = reviews_train.data, reviews_train.target\n",
        "print(\"Tipo da variável text_train: {}\".format(type(text_train)))\n",
        "print(\"Tamanho text_train: {}\".format(len(text_train))) \n",
        "print(\"text_train[1]:\\n{}\".format(text_train[1]))"
      ],
      "execution_count": 5,
      "outputs": [
        {
          "output_type": "stream",
          "text": [
            "Tipo da variável text_train: <class 'list'>\n",
            "Tamanho text_train: 75000\n",
            "text_train[1]:\n",
            "b\"Amount of disappointment I am getting these days seeing movies like Partner, Jhoom Barabar and now, Heyy Babyy is gonna end my habit of seeing first day shows.<br /><br />The movie is an utter disappointment because it had the potential to become a laugh riot only if the d\\xc3\\xa9butant director, Sajid Khan hadn't tried too many things. Only saving grace in the movie were the last thirty minutes, which were seriously funny elsewhere the movie fails miserably. First half was desperately been tried to look funny but wasn't. Next 45 minutes were emotional and looked totally artificial and illogical.<br /><br />OK, when you are out for a movie like this you don't expect much logic but all the flaws tend to appear when you don't enjoy the movie and thats the case with Heyy Babyy. Acting is good but thats not enough to keep one interested.<br /><br />For the positives, you can take hot actresses, last 30 minutes, some comic scenes, good acting by the lead cast and the baby. Only problem is that these things do not come together properly to make a good movie.<br /><br />Anyways, I read somewhere that It isn't a copy of Three men and a baby but I think it would have been better if it was.\"\n"
          ],
          "name": "stdout"
        }
      ]
    },
    {
      "cell_type": "code",
      "metadata": {
        "id": "t88-OHWfUTL0",
        "colab_type": "code",
        "colab": {}
      },
      "source": [
        "reviews_test = load_files(\"aclImdb/test/\")\n",
        "text_test, y_test = reviews_test.data, reviews_test.target "
      ],
      "execution_count": 6,
      "outputs": []
    },
    {
      "cell_type": "markdown",
      "metadata": {
        "id": "1tH2cY1zTUW3",
        "colab_type": "text"
      },
      "source": [
        "# Limpeza dos Dados"
      ]
    },
    {
      "cell_type": "markdown",
      "metadata": {
        "id": "FuNeTQjFJ7TM",
        "colab_type": "text"
      },
      "source": [
        "Sempre que trabalhamos com dados de texto, é importante passarmos pela etapa de **limpeza**. \n",
        "\n",
        "Você viu que acima, o nosso objetivo será transformar os documentos em vetores. Veja abaixo algumas etapas de limpeza importantes:"
      ]
    },
    {
      "cell_type": "markdown",
      "metadata": {
        "id": "qNNqCM6RVT7k",
        "colab_type": "text"
      },
      "source": [
        "## Remoção de Stopwords\n",
        "\n",
        "Stopwords é a denominação de palavras \"semanticamente vazias\", ou seja, palavras como preposições (de, da, para, como), pronomes (ele, eu), artigos (o, a), etc...\n",
        "São palavras que aparecem demais nos textos e não precisam fazer parte do vocabulário pois dificilmente impactariam no algoritmo de classificação. "
      ]
    },
    {
      "cell_type": "markdown",
      "metadata": {
        "id": "uM2QLCSdsabu",
        "colab_type": "text"
      },
      "source": [
        "**CUIDADO**\n",
        "\n",
        "\n",
        "Remover stopwords em casos de análise de sentimentos pode enganar o seu modelo!\n",
        "\n",
        "Verifique se a palavra \"não\" encontra-se na sua lista de stopwords.\n",
        "\n",
        "Se removermos \"não\", podemos transformar \"não gostei\" em \"gostei\"."
      ]
    },
    {
      "cell_type": "markdown",
      "metadata": {
        "id": "4rdF6Rp9LC8Q",
        "colab_type": "text"
      },
      "source": [
        "## Stemming e Lemmatização\n",
        "\n",
        "É um método que consiste em cortar as palavras de modo a concentrar diversas palavras em uma única representação no vocabulário, ou seja, **grand**ioso e **grand**e, seriam ambas representadas por apenas **grand**. Fazer isso economiza memória e tempo para os nossos algoritmos."
      ]
    },
    {
      "cell_type": "markdown",
      "metadata": {
        "id": "4pfmnMS2Hg3M",
        "colab_type": "text"
      },
      "source": [
        "Qual a diferença entre stemming e lemmatização?\n",
        "\n",
        "Stemming: método computacional que funciona a partir de regrinhas básicas. Prático, porém...\n",
        "\n",
        "**was -> wa**\n",
        "\n",
        "Lemmatização: um sistema verificado por humanos.\n",
        "\n",
        "**was -> be**"
      ]
    },
    {
      "cell_type": "markdown",
      "metadata": {
        "id": "d_UPZJqsLnRt",
        "colab_type": "text"
      },
      "source": [
        "## Remoção de Pontuação e strings de codificação \n",
        "\n",
        "É importante removermos \"lixinhos\", itens no texto que não serão relevantes para a classificação. Pode haver também alguns caracteres ou marcadores de texto irrelevantes para a análise, como por exemplo \"\\s\", \"\\n, etc."
      ]
    },
    {
      "cell_type": "code",
      "metadata": {
        "id": "f89dMv76TVwp",
        "colab_type": "code",
        "colab": {}
      },
      "source": [
        "text_train = [doc.replace(b\"<br />\", b\" \") for doc in text_train] "
      ],
      "execution_count": 7,
      "outputs": []
    },
    {
      "cell_type": "code",
      "metadata": {
        "id": "Bb6hQKUMIhtm",
        "colab_type": "code",
        "colab": {}
      },
      "source": [
        "text_test = [doc.replace(b\"<br />\", b\" \") for doc in text_test]"
      ],
      "execution_count": 8,
      "outputs": []
    },
    {
      "cell_type": "code",
      "metadata": {
        "id": "z8OBTZVETpFF",
        "colab_type": "code",
        "colab": {
          "base_uri": "https://localhost:8080/",
          "height": 54
        },
        "outputId": "09f370e1-9a31-45c4-9192-b7ba123561a5"
      },
      "source": [
        "text_train[1]"
      ],
      "execution_count": 9,
      "outputs": [
        {
          "output_type": "execute_result",
          "data": {
            "text/plain": [
              "b\"Amount of disappointment I am getting these days seeing movies like Partner, Jhoom Barabar and now, Heyy Babyy is gonna end my habit of seeing first day shows.  The movie is an utter disappointment because it had the potential to become a laugh riot only if the d\\xc3\\xa9butant director, Sajid Khan hadn't tried too many things. Only saving grace in the movie were the last thirty minutes, which were seriously funny elsewhere the movie fails miserably. First half was desperately been tried to look funny but wasn't. Next 45 minutes were emotional and looked totally artificial and illogical.  OK, when you are out for a movie like this you don't expect much logic but all the flaws tend to appear when you don't enjoy the movie and thats the case with Heyy Babyy. Acting is good but thats not enough to keep one interested.  For the positives, you can take hot actresses, last 30 minutes, some comic scenes, good acting by the lead cast and the baby. Only problem is that these things do not come together properly to make a good movie.  Anyways, I read somewhere that It isn't a copy of Three men and a baby but I think it would have been better if it was.\""
            ]
          },
          "metadata": {
            "tags": []
          },
          "execution_count": 9
        }
      ]
    },
    {
      "cell_type": "markdown",
      "metadata": {
        "id": "arPiNULhT215",
        "colab_type": "text"
      },
      "source": [
        "# Contagem do Target"
      ]
    },
    {
      "cell_type": "code",
      "metadata": {
        "id": "YlHmmVuUT-0A",
        "colab_type": "code",
        "colab": {
          "base_uri": "https://localhost:8080/",
          "height": 51
        },
        "outputId": "d4fe4521-3cdb-41e6-9f9c-ee9c73ca8b0c"
      },
      "source": [
        "print(\"Treino: {}\".format(np.bincount(y_train)))\n",
        "print(\"Teste: {}\".format(np.bincount(y_test))) "
      ],
      "execution_count": 10,
      "outputs": [
        {
          "output_type": "stream",
          "text": [
            "Treino: [12500 12500 50000]\n",
            "Teste: [12500 12500]\n"
          ],
          "name": "stdout"
        }
      ]
    },
    {
      "cell_type": "code",
      "metadata": {
        "id": "5GFAbGGmUPRk",
        "colab_type": "code",
        "colab": {
          "base_uri": "https://localhost:8080/",
          "height": 85
        },
        "outputId": "aefed05a-46cd-462a-e4a1-b5d33d9876dc"
      },
      "source": [
        "pd.Series(y_train).value_counts()"
      ],
      "execution_count": 11,
      "outputs": [
        {
          "output_type": "execute_result",
          "data": {
            "text/plain": [
              "2    50000\n",
              "1    12500\n",
              "0    12500\n",
              "dtype: int64"
            ]
          },
          "metadata": {
            "tags": []
          },
          "execution_count": 11
        }
      ]
    },
    {
      "cell_type": "code",
      "metadata": {
        "id": "GIY0XtC1EWOs",
        "colab_type": "code",
        "colab": {}
      },
      "source": [
        "preprocess = pd.concat([pd.Series(text_train), pd.Series(y_train)], axis=1)\n",
        "preprocess = preprocess[preprocess[1] != 2]\n",
        "text_train = preprocess[0]\n",
        "y_train = np.array(preprocess[1])"
      ],
      "execution_count": 12,
      "outputs": []
    },
    {
      "cell_type": "code",
      "metadata": {
        "id": "DoYGBEQWFb_p",
        "colab_type": "code",
        "colab": {
          "base_uri": "https://localhost:8080/",
          "height": 68
        },
        "outputId": "1238d7ee-9c3e-4bb6-dc34-c9496693ae80"
      },
      "source": [
        "pd.Series(y_train).value_counts()"
      ],
      "execution_count": 13,
      "outputs": [
        {
          "output_type": "execute_result",
          "data": {
            "text/plain": [
              "1    12500\n",
              "0    12500\n",
              "dtype: int64"
            ]
          },
          "metadata": {
            "tags": []
          },
          "execution_count": 13
        }
      ]
    },
    {
      "cell_type": "code",
      "metadata": {
        "id": "QYrsEhmGU8rr",
        "colab_type": "code",
        "colab": {
          "base_uri": "https://localhost:8080/",
          "height": 68
        },
        "outputId": "8f590e6e-636e-43da-8fa7-f455b33b2e05"
      },
      "source": [
        "pd.Series(y_test).value_counts()"
      ],
      "execution_count": 14,
      "outputs": [
        {
          "output_type": "execute_result",
          "data": {
            "text/plain": [
              "1    12500\n",
              "0    12500\n",
              "dtype: int64"
            ]
          },
          "metadata": {
            "tags": []
          },
          "execution_count": 14
        }
      ]
    },
    {
      "cell_type": "code",
      "metadata": {
        "id": "3W-UWYsHyhpv",
        "colab_type": "code",
        "colab": {
          "base_uri": "https://localhost:8080/",
          "height": 34
        },
        "outputId": "ab06e4fb-6b4c-42b3-c61b-fe583886c4e7"
      },
      "source": [
        "y_test[1]"
      ],
      "execution_count": 15,
      "outputs": [
        {
          "output_type": "execute_result",
          "data": {
            "text/plain": [
              "0"
            ]
          },
          "metadata": {
            "tags": []
          },
          "execution_count": 15
        }
      ]
    },
    {
      "cell_type": "code",
      "metadata": {
        "id": "3U_P7xiM7kxV",
        "colab_type": "code",
        "colab": {
          "base_uri": "https://localhost:8080/",
          "height": 34
        },
        "outputId": "3c681385-78ed-4f06-b31a-499468f30bdc"
      },
      "source": [
        "text_train.isna().any()"
      ],
      "execution_count": 16,
      "outputs": [
        {
          "output_type": "execute_result",
          "data": {
            "text/plain": [
              "False"
            ]
          },
          "metadata": {
            "tags": []
          },
          "execution_count": 16
        }
      ]
    },
    {
      "cell_type": "markdown",
      "metadata": {
        "id": "sIpnn34SVm9t",
        "colab_type": "text"
      },
      "source": [
        "# Representação Numérica das Palavras"
      ]
    },
    {
      "cell_type": "markdown",
      "metadata": {
        "id": "bUju30ZIGD3o",
        "colab_type": "text"
      },
      "source": [
        "Para alimentarmos os nossos modelos de ML, será necessário transformar os textos em representações que os modelos compreendam, ou seja, vetores numéricos."
      ]
    },
    {
      "cell_type": "markdown",
      "metadata": {
        "id": "I7s7mpnPWOoQ",
        "colab_type": "text"
      },
      "source": [
        "## Bag of Words"
      ]
    },
    {
      "cell_type": "markdown",
      "metadata": {
        "id": "8LLQYCb2X3Y8",
        "colab_type": "text"
      },
      "source": [
        "A técnica de Bag of Words é chamada assim por considerarmos o texto como um \"saco de palavras\". Não é importante a ordem das palavras ou o significado. Teremos uma representação vetorial para cada palavra do vocabulário."
      ]
    },
    {
      "cell_type": "markdown",
      "metadata": {
        "id": "Qb66MXcnmJ6n",
        "colab_type": "text"
      },
      "source": [
        "Vocabulário: Conjunto de todas as palavras únicas de um texto."
      ]
    },
    {
      "cell_type": "markdown",
      "metadata": {
        "id": "e9uO2ZWYWJI5",
        "colab_type": "text"
      },
      "source": [
        "O cálculo da representação do Bag-of-Words para um corpus de documentos consiste nas três etapas a seguir:\n",
        "1. Tokenização. Divisão do texto através das palavras que aparecem nele (chamadas de tokens), por exemplo, dividindo-o em espaços em branco e pontuação.\n",
        "2. Construção de vocabulário. Obtenha um vocabulário de todas as palavras que aparecem em qualquer um dos documentos e numere-as (digamos, em ordem alfabética).\n",
        "3. Codificação. Para cada documento, conte quantas vezes cada uma das palavras do vocabulário aparece neste documento."
      ]
    },
    {
      "cell_type": "markdown",
      "metadata": {
        "id": "AyPBqlPI3XeK",
        "colab_type": "text"
      },
      "source": [
        "## Exemplo:"
      ]
    },
    {
      "cell_type": "markdown",
      "metadata": {
        "id": "Uc6clFPu1ITu",
        "colab_type": "text"
      },
      "source": [
        "![bow](https://drive.google.com/uc?export=view&id=1nvfzqX6PD-OxJCO-aa-QdmWOQKgfvpGN)"
      ]
    },
    {
      "cell_type": "markdown",
      "metadata": {
        "id": "Kl9tSwu5Xy8r",
        "colab_type": "text"
      },
      "source": [
        "# TF IDF"
      ]
    },
    {
      "cell_type": "markdown",
      "metadata": {
        "id": "y2_asZlOGrnP",
        "colab_type": "text"
      },
      "source": [
        "Outra abordagem possível é redimensionar os vetores de acordo com o quão **informativos** esperamos que sejam. Uma forma de fazer isso é através da técnica TF-IDF. "
      ]
    },
    {
      "cell_type": "markdown",
      "metadata": {
        "id": "UGorrV15IokQ",
        "colab_type": "text"
      },
      "source": [
        "O que é TF-IDF?\n",
        "\n",
        "**term frequency–inverse document frequency**\n",
        "\n",
        "[Artigo no Wikipedia](https://en.wikipedia.org/wiki/Tf%E2%80%93idf)"
      ]
    },
    {
      "cell_type": "markdown",
      "metadata": {
        "id": "aZkrYNdzHB0f",
        "colab_type": "text"
      },
      "source": [
        "A intuição desse método é dar um peso maior aos termos que aparecem com maior frequência em um determinado documento, mas não em muitos documentos do corpus. Se uma palavra aparece com freqüência em um determinado documento, mas não em muitos documentos, é provável que seja muito descritiva do conteúdo desse documento."
      ]
    },
    {
      "cell_type": "markdown",
      "metadata": {
        "id": "DLqrCa-1HZbe",
        "colab_type": "text"
      },
      "source": [
        "Mas o que é um **documento**?\n",
        "\n",
        "Em NLP, um \"documento\" é um texto distinto. Isso geralmente significa que cada artigo, livro ou assim por diante é seu próprio documento. Se você quiser, pode tratar um parágrafo individual ou mesmo uma frase como um \"documento\"."
      ]
    },
    {
      "cell_type": "markdown",
      "metadata": {
        "id": "jj0iZ8SZE4CA",
        "colab_type": "text"
      },
      "source": [
        "- Term-frequency = Quantas vezes um termo (palavra, stem) aparece em um documento.\n",
        "\n",
        "- Document-frequency = Quantas vezes um termo aparece no conjunto de todos os documentos.\n",
        "\n",
        "- Inverse Document-frequency = 1/DF \n",
        "\n",
        "- TF-IDF: TF * 1/DF = TF/DF"
      ]
    },
    {
      "cell_type": "markdown",
      "metadata": {
        "id": "40fWVX5zJqJD",
        "colab_type": "text"
      },
      "source": [
        "Os pesos dos termos são atribuídos da seguinte forma:"
      ]
    },
    {
      "cell_type": "markdown",
      "metadata": {
        "id": "A_QDs27XJU75",
        "colab_type": "text"
      },
      "source": [
        "![](https://drive.google.com/uc?export=view&id=1S_LaVTT2EvwaS6MqsfMvLiWBUSjxhEsw)"
      ]
    },
    {
      "cell_type": "markdown",
      "metadata": {
        "id": "bCg3H_HgJwz5",
        "colab_type": "text"
      },
      "source": [
        "onde N é o número de documentos no conjunto de treinamento, Nw é o número de documentos no conjunto de treinamento em que a palavra w aparece e tf (term frequency) é o número de vezes que a palavra w aparece no documento de consulta d (o documento que você deseja transformar ou codificar)."
      ]
    },
    {
      "cell_type": "markdown",
      "metadata": {
        "id": "BLx0wTLRGzfa",
        "colab_type": "text"
      },
      "source": [
        "Por que log?\n",
        "\n",
        "Porque como se trata de uma contagem podemos eventualmente estar falando milhares, milhões. Quando tomamos o log, damos uma suavizada na contagem e portanto menos peso a palavras muito comuns.\n",
        "\n",
        "Por que adicionar 1?\n",
        "\n",
        "Porque se Nw = 0, log(0) = -inf e log(1) = 0."
      ]
    },
    {
      "cell_type": "markdown",
      "metadata": {
        "id": "9qiLNO6SpkEY",
        "colab_type": "text"
      },
      "source": [
        "No nosso caso, vamos considerar cada **review**, ou seja, cada frase, um documento. Assim saberemos quais a palavras que mais se destacam em cada documento e quais aquelas que aparecem mais frequentemente em comentários negativos/positivos."
      ]
    },
    {
      "cell_type": "markdown",
      "metadata": {
        "id": "tXYuz51jCyEu",
        "colab_type": "text"
      },
      "source": [
        "## Na prática..."
      ]
    },
    {
      "cell_type": "code",
      "metadata": {
        "id": "ASTk52oYEvdc",
        "colab_type": "code",
        "colab": {}
      },
      "source": [
        "sample = text_train[:20]"
      ],
      "execution_count": 26,
      "outputs": []
    },
    {
      "cell_type": "code",
      "metadata": {
        "id": "kv9rgnDLaLwI",
        "colab_type": "code",
        "colab": {
          "base_uri": "https://localhost:8080/",
          "height": 374
        },
        "outputId": "729287c8-9936-41fe-fd47-bd6e4e3dfef9"
      },
      "source": [
        "sample"
      ],
      "execution_count": 62,
      "outputs": [
        {
          "output_type": "execute_result",
          "data": {
            "text/plain": [
              "3     b\"Dan Katzir has produced a wonderful film tha...\n",
              "4     b'If you want Scream or anything like the big-...\n",
              "9     b\"Outlandish premise that rates low on plausib...\n",
              "11    b'Let\\'s face it-- if you rented a STDVD seque...\n",
              "12    b'Bizarre Tobe Hooper exercise regarding an un...\n",
              "13    b'Well, maybe the PC version of this game was ...\n",
              "16    b'Watching \"Kroko\" I would have liked to leave...\n",
              "17    b\"First of all, I have to start this comment b...\n",
              "18    b\"Very much a film from the times -- extremely...\n",
              "23    b'\"The Invisible Ray\" is part science fiction ...\n",
              "28    b\"Rosenstrasse is a touching story of courage ...\n",
              "29    b'Nell Shipman must have been paid a hefty sum...\n",
              "30    b'One of the best parts of Sundance is seeing ...\n",
              "32    b\"Don't bother trying to watch this terrible m...\n",
              "37    b\"I am not a parent, neither am I a male. But ...\n",
              "39    b'This is mostly a story about the growing rel...\n",
              "41    b'it\\'s a weekend i\\'ve been watched this funn...\n",
              "43    b\"This film tells the story of a romance betwe...\n",
              "46    b'I liked this movie sort of reminded me of my...\n",
              "55    b'Chesty gringo Telly Savalas (as Frank Cooper...\n",
              "Name: 0, dtype: object"
            ]
          },
          "metadata": {
            "tags": []
          },
          "execution_count": 62
        }
      ]
    },
    {
      "cell_type": "code",
      "metadata": {
        "id": "NkRwIwD7E1sJ",
        "colab_type": "code",
        "colab": {
          "base_uri": "https://localhost:8080/",
          "height": 1000
        },
        "outputId": "cc026e84-9751-4507-e705-78f020cd85a4"
      },
      "source": [
        "set(str(sample[3]).split(' '))"
      ],
      "execution_count": 33,
      "outputs": [
        {
          "output_type": "execute_result",
          "data": {
            "text/plain": [
              "{'',\n",
              " '-',\n",
              " \"Dan's\",\n",
              " 'For',\n",
              " 'If',\n",
              " 'Instantly,',\n",
              " 'Iris,',\n",
              " 'Israel',\n",
              " 'Israel.',\n",
              " 'Katzir',\n",
              " 'The',\n",
              " 'You',\n",
              " 'a',\n",
              " 'an',\n",
              " 'and',\n",
              " 'anyone',\n",
              " 'are',\n",
              " 'at',\n",
              " 'atmosphere',\n",
              " 'b\"Dan',\n",
              " 'back',\n",
              " 'be',\n",
              " 'been',\n",
              " 'between',\n",
              " 'bitter-sweet.',\n",
              " 'brings',\n",
              " 'came',\n",
              " \"can't\",\n",
              " 'contrast',\n",
              " 'deeply',\n",
              " 'desperate,',\n",
              " 'difficult',\n",
              " 'drama',\n",
              " 'drawn',\n",
              " 'eminently',\n",
              " 'ever',\n",
              " 'fail',\n",
              " 'fear',\n",
              " 'feeling.',\n",
              " 'film',\n",
              " 'film.\"',\n",
              " 'has',\n",
              " 'have',\n",
              " 'heartache',\n",
              " 'in',\n",
              " 'insecurities',\n",
              " 'intensify',\n",
              " 'isolation',\n",
              " 'just',\n",
              " 'like',\n",
              " 'love',\n",
              " 'love,',\n",
              " 'make',\n",
              " 'modern',\n",
              " 'moved.',\n",
              " 'of',\n",
              " 'on',\n",
              " 'ounce',\n",
              " 'passion',\n",
              " 'passion,',\n",
              " 'plight,',\n",
              " 'produced',\n",
              " 'real',\n",
              " 'realities',\n",
              " 'relationship',\n",
              " 'ride',\n",
              " 'roller-coaster',\n",
              " 'romance',\n",
              " 'see',\n",
              " 'serve',\n",
              " 'set',\n",
              " 'snatched',\n",
              " 'so',\n",
              " 'state',\n",
              " 'surrounding',\n",
              " 'takes',\n",
              " 'that',\n",
              " 'the',\n",
              " 'this',\n",
              " 'through',\n",
              " 'time',\n",
              " 'times',\n",
              " 'to',\n",
              " 'troubles',\n",
              " 'turmoil',\n",
              " 'uncertainties,',\n",
              " 'us',\n",
              " 'watchable.',\n",
              " \"who's\",\n",
              " 'with',\n",
              " 'wonderful',\n",
              " 'write',\n",
              " 'you'}"
            ]
          },
          "metadata": {
            "tags": []
          },
          "execution_count": 33
        }
      ]
    },
    {
      "cell_type": "code",
      "metadata": {
        "id": "DRvQx4MYFZ_d",
        "colab_type": "code",
        "colab": {}
      },
      "source": [
        "vocab = list()\n",
        "for item in sample:\n",
        "  words = str(item).split(' ')\n",
        "  vocab = vocab + words\n",
        "\n",
        "vocab = set(vocab)"
      ],
      "execution_count": 36,
      "outputs": []
    },
    {
      "cell_type": "code",
      "metadata": {
        "id": "N0REXi0OGFKq",
        "colab_type": "code",
        "colab": {
          "base_uri": "https://localhost:8080/",
          "height": 34
        },
        "outputId": "2136314a-f18b-43b7-a27b-2a74af687c58"
      },
      "source": [
        "len(vocab)"
      ],
      "execution_count": 38,
      "outputs": [
        {
          "output_type": "execute_result",
          "data": {
            "text/plain": [
              "2303"
            ]
          },
          "metadata": {
            "tags": []
          },
          "execution_count": 38
        }
      ]
    },
    {
      "cell_type": "code",
      "metadata": {
        "id": "OFT2ZLVlC07x",
        "colab_type": "code",
        "colab": {}
      },
      "source": [
        "tfidf = TfidfVectorizer(min_df=5)"
      ],
      "execution_count": 17,
      "outputs": []
    },
    {
      "cell_type": "code",
      "metadata": {
        "id": "_N1kXW0kDQEM",
        "colab_type": "code",
        "colab": {}
      },
      "source": [
        "example_tfidf = tfidf.fit_transform(text_train[:20])"
      ],
      "execution_count": 39,
      "outputs": []
    },
    {
      "cell_type": "code",
      "metadata": {
        "id": "eJfK-sLdEZ86",
        "colab_type": "code",
        "colab": {
          "base_uri": "https://localhost:8080/",
          "height": 51
        },
        "outputId": "2fc11d15-3da8-4271-9174-80550bc4e88e"
      },
      "source": [
        "example_tfidf"
      ],
      "execution_count": 40,
      "outputs": [
        {
          "output_type": "execute_result",
          "data": {
            "text/plain": [
              "<20x113 sparse matrix of type '<class 'numpy.float64'>'\n",
              "\twith 943 stored elements in Compressed Sparse Row format>"
            ]
          },
          "metadata": {
            "tags": []
          },
          "execution_count": 40
        }
      ]
    },
    {
      "cell_type": "code",
      "metadata": {
        "id": "miI8hffNDbrc",
        "colab_type": "code",
        "colab": {
          "base_uri": "https://localhost:8080/",
          "height": 34
        },
        "outputId": "3f6286ba-f413-42bb-cb93-fb2987ee8154"
      },
      "source": [
        "example_tfidf.shape"
      ],
      "execution_count": 24,
      "outputs": [
        {
          "output_type": "execute_result",
          "data": {
            "text/plain": [
              "(20, 113)"
            ]
          },
          "metadata": {
            "tags": []
          },
          "execution_count": 24
        }
      ]
    },
    {
      "cell_type": "markdown",
      "metadata": {
        "id": "G1CyjVQkqNXd",
        "colab_type": "text"
      },
      "source": [
        "# Pipeline"
      ]
    },
    {
      "cell_type": "markdown",
      "metadata": {
        "id": "EBxi7orpuBRL",
        "colab_type": "text"
      },
      "source": [
        "Vamos utilizar a classe Pipeline do Scikit Learn para transformarmos as nossas reviews em vetores de TF-IDF e em seguida fitarmos um modelo de regressão logística nas nossas novas \"features\". \n",
        "\n",
        "A função de TfidfVectorizer do scikit já possui algumas limpezas implementadas dentro dela. Ela remove pontuações e \"normaliza\" o texto, transformando todas as letras em minúsculas.\n",
        "\n",
        "Também é possível passar uma lista de stop words para ela remover!"
      ]
    },
    {
      "cell_type": "code",
      "metadata": {
        "id": "kOe2GQTMqLWU",
        "colab_type": "code",
        "colab": {}
      },
      "source": [
        "pipe = make_pipeline(TfidfVectorizer(min_df=5),\n",
        "                     LogisticRegression(penalty='l1', solver='liblinear'))"
      ],
      "execution_count": 48,
      "outputs": []
    },
    {
      "cell_type": "code",
      "metadata": {
        "id": "O7ybnS7Fq4tv",
        "colab_type": "code",
        "colab": {}
      },
      "source": [
        " param_grid = {'logisticregression__C': [0.001, 0.01],#, 0.1, 1, 10]}\n",
        "               'logisticregression__random_state': [0]}"
      ],
      "execution_count": 49,
      "outputs": []
    },
    {
      "cell_type": "code",
      "metadata": {
        "id": "7ZJHIDKfqn1O",
        "colab_type": "code",
        "colab": {
          "base_uri": "https://localhost:8080/",
          "height": 578
        },
        "outputId": "246e072f-147a-43b2-e394-0ff849bf785c"
      },
      "source": [
        "grid = GridSearchCV(pipe, param_grid, scoring='neg_log_loss', cv=3)\n",
        "grid.fit(text_train, y_train)"
      ],
      "execution_count": 50,
      "outputs": [
        {
          "output_type": "execute_result",
          "data": {
            "text/plain": [
              "GridSearchCV(cv=3, error_score=nan,\n",
              "             estimator=Pipeline(memory=None,\n",
              "                                steps=[('tfidfvectorizer',\n",
              "                                        TfidfVectorizer(analyzer='word',\n",
              "                                                        binary=False,\n",
              "                                                        decode_error='strict',\n",
              "                                                        dtype=<class 'numpy.float64'>,\n",
              "                                                        encoding='utf-8',\n",
              "                                                        input='content',\n",
              "                                                        lowercase=True,\n",
              "                                                        max_df=1.0,\n",
              "                                                        max_features=None,\n",
              "                                                        min_df=5,\n",
              "                                                        ngram_range=(1, 1),\n",
              "                                                        norm='l2',\n",
              "                                                        preprocessor=None,\n",
              "                                                        smooth_idf=True,\n",
              "                                                        stop_words=None...\n",
              "                                                           max_iter=100,\n",
              "                                                           multi_class='auto',\n",
              "                                                           n_jobs=None,\n",
              "                                                           penalty='l1',\n",
              "                                                           random_state=None,\n",
              "                                                           solver='liblinear',\n",
              "                                                           tol=0.0001,\n",
              "                                                           verbose=0,\n",
              "                                                           warm_start=False))],\n",
              "                                verbose=False),\n",
              "             iid='deprecated', n_jobs=None,\n",
              "             param_grid={'logisticregression__C': [0.001, 0.01],\n",
              "                         'logisticregression__random_state': [0]},\n",
              "             pre_dispatch='2*n_jobs', refit=True, return_train_score=False,\n",
              "             scoring='neg_log_loss', verbose=0)"
            ]
          },
          "metadata": {
            "tags": []
          },
          "execution_count": 50
        }
      ]
    },
    {
      "cell_type": "code",
      "metadata": {
        "id": "jGq2LM9yrPGZ",
        "colab_type": "code",
        "colab": {
          "base_uri": "https://localhost:8080/",
          "height": 34
        },
        "outputId": "9fa857a0-e958-46dd-abdc-feae22c4cce8"
      },
      "source": [
        "print(\"Best cross-validation score: {:.2f}\".format(grid.best_score_))"
      ],
      "execution_count": 51,
      "outputs": [
        {
          "output_type": "stream",
          "text": [
            "Best cross-validation score: -0.69\n"
          ],
          "name": "stdout"
        }
      ]
    },
    {
      "cell_type": "code",
      "metadata": {
        "id": "pd-ln6yb6GZE",
        "colab_type": "code",
        "colab": {
          "base_uri": "https://localhost:8080/",
          "height": 34
        },
        "outputId": "f9d28a5d-d606-4d17-dfbc-52b83604f101"
      },
      "source": [
        "print(\"Best parameters: \", grid.best_params_)"
      ],
      "execution_count": 52,
      "outputs": [
        {
          "output_type": "stream",
          "text": [
            "Best parameters:  {'logisticregression__C': 0.001, 'logisticregression__random_state': 0}\n"
          ],
          "name": "stdout"
        }
      ]
    },
    {
      "cell_type": "code",
      "metadata": {
        "id": "i2dOsr2ruaaq",
        "colab_type": "code",
        "colab": {
          "base_uri": "https://localhost:8080/",
          "height": 170
        },
        "outputId": "41c174ae-7332-42d6-ac09-6fb849ec652b"
      },
      "source": [
        "vectorizer = grid.best_estimator_.named_steps[\"tfidfvectorizer\"] # transform the training dataset\n",
        "X_train = vectorizer.transform(text_train)\n",
        "# find maximum value for each of the features over the dataset \n",
        "max_value = X_train.max(axis=0).toarray().ravel() \n",
        "sorted_by_tfidf = max_value.argsort() # get feature names (indexes)\n",
        "feature_names = np.array(vectorizer.get_feature_names()) \n",
        "\n",
        "print(\"Features with lowest tfidf:\\n{}\".format(\n",
        "feature_names[sorted_by_tfidf[:20]])) \n",
        "\n",
        "print(\"Features with highest tfidf: \\n{}\".format(\n",
        "feature_names[sorted_by_tfidf[-20:]]))"
      ],
      "execution_count": 53,
      "outputs": [
        {
          "output_type": "stream",
          "text": [
            "Features with lowest tfidf:\n",
            "['suplexes' 'gauche' 'hypocrites' 'oncoming' 'songwriting' 'galadriel'\n",
            " 'emerald' 'mclaughlin' 'sylvain' 'oversee' 'cataclysmic' 'pressuring'\n",
            " 'uphold' 'thieving' 'inconsiderate' 'ware' 'denim' 'reverting' 'booed'\n",
            " 'spacious']\n",
            "Features with highest tfidf: \n",
            "['gadget' 'sucks' 'zatoichi' 'demons' 'lennon' 'bye' 'dev' 'weller'\n",
            " 'sasquatch' 'botched' 'xica' 'darkman' 'woo' 'casper' 'doodlebops'\n",
            " 'smallville' 'wei' 'scanners' 'steve' 'pokemon']\n"
          ],
          "name": "stdout"
        }
      ]
    },
    {
      "cell_type": "code",
      "metadata": {
        "id": "mjD-xpVXMPpF",
        "colab_type": "code",
        "colab": {
          "base_uri": "https://localhost:8080/",
          "height": 51
        },
        "outputId": "6cf07e80-9733-4423-b4f2-d909a87d820d"
      },
      "source": [
        "max_value"
      ],
      "execution_count": 58,
      "outputs": [
        {
          "output_type": "execute_result",
          "data": {
            "text/plain": [
              "array([0.39314587, 0.32476869, 0.33912267, ..., 0.43735711, 0.41781736,\n",
              "       0.14005376])"
            ]
          },
          "metadata": {
            "tags": []
          },
          "execution_count": 58
        }
      ]
    },
    {
      "cell_type": "code",
      "metadata": {
        "id": "_XgmcXwJMMN1",
        "colab_type": "code",
        "colab": {
          "base_uri": "https://localhost:8080/",
          "height": 34
        },
        "outputId": "60e35c9a-75eb-4328-dcb2-d76a8c5fe379"
      },
      "source": [
        "sorted_by_tfidf"
      ],
      "execution_count": 57,
      "outputs": [
        {
          "output_type": "execute_result",
          "data": {
            "text/plain": [
              "array([23668, 10103, 11968, ..., 21090, 23134, 18303])"
            ]
          },
          "metadata": {
            "tags": []
          },
          "execution_count": 57
        }
      ]
    },
    {
      "cell_type": "markdown",
      "metadata": {
        "id": "C59H2Zux8PHq",
        "colab_type": "text"
      },
      "source": [
        "Termos com baixo tf–idf são aqueles que são muito comumente usados ​​em documentos, ou são usados raramente ou em documentos muito longos. Curiosamente, muitos dos termos com alto tf–idf realmente identificam certos programas ou filmes. Esses termos aparecem apenas em resenhas para este programa ou franquia específico, mas tendem a aparecer com muita frequência nessas resenhas específicas. Isso é muito claro, por exemplo, para \"pokemon\", \"smallville\" e \"doodlebops\". É improvável que essas palavras nos ajudem em nossa tarefa de classificação de sentimento (a menos que algumas franquias sejam universalmente revisadas como positivas ou negativas)."
      ]
    },
    {
      "cell_type": "markdown",
      "metadata": {
        "id": "Cw6VKura9OTw",
        "colab_type": "text"
      },
      "source": [
        "# Coeficientes do modelo"
      ]
    },
    {
      "cell_type": "code",
      "metadata": {
        "id": "Vj_b4WDg72xf",
        "colab_type": "code",
        "colab": {
          "base_uri": "https://localhost:8080/",
          "height": 333
        },
        "outputId": "bb36b9e7-20d5-4664-b6d6-ab11a48186fb"
      },
      "source": [
        "mglearn.tools.visualize_coefficients(\n",
        "        grid.best_estimator_.named_steps[\"logisticregression\"].coef_,\n",
        "        feature_names, n_top_features=40)"
      ],
      "execution_count": 23,
      "outputs": [
        {
          "output_type": "display_data",
          "data": {
            "image/png": "[encoded data removed]",
            "text/plain": [
              "<Figure size 1080x360 with 1 Axes>"
            ]
          },
          "metadata": {
            "tags": [],
            "needs_background": "light"
          }
        }
      ]
    },
    {
      "cell_type": "code",
      "metadata": {
        "id": "NGnaRdM0c1jB",
        "colab_type": "code",
        "colab": {}
      },
      "source": [
        "predictions = grid.predict(text_test)"
      ],
      "execution_count": 59,
      "outputs": []
    },
    {
      "cell_type": "code",
      "metadata": {
        "id": "pCb0mlr5jumD",
        "colab_type": "code",
        "colab": {
          "base_uri": "https://localhost:8080/",
          "height": 34
        },
        "outputId": "1b4b3b1f-f42b-4272-b183-0054dd3d3fe5"
      },
      "source": [
        "predictions"
      ],
      "execution_count": 60,
      "outputs": [
        {
          "output_type": "execute_result",
          "data": {
            "text/plain": [
              "array([0, 0, 0, ..., 0, 0, 0])"
            ]
          },
          "metadata": {
            "tags": []
          },
          "execution_count": 60
        }
      ]
    },
    {
      "cell_type": "code",
      "metadata": {
        "id": "2P9n-LWhGwEX",
        "colab_type": "code",
        "colab": {}
      },
      "source": [
        "predict_probas = grid.predict_proba(text_test)"
      ],
      "execution_count": 61,
      "outputs": []
    },
    {
      "cell_type": "markdown",
      "metadata": {
        "id": "6xatelgmEBCS",
        "colab_type": "text"
      },
      "source": [
        "# Avaliação do nosso modelo"
      ]
    },
    {
      "cell_type": "code",
      "metadata": {
        "id": "QPJPXiFwEEWO",
        "colab_type": "code",
        "colab": {
          "base_uri": "https://localhost:8080/",
          "height": 170
        },
        "outputId": "7d7610d1-8ec5-4022-e4d0-2d8c66a76a0a"
      },
      "source": [
        "print(classification_report(y_test, predictions))"
      ],
      "execution_count": 27,
      "outputs": [
        {
          "output_type": "stream",
          "text": [
            "              precision    recall  f1-score   support\n",
            "\n",
            "           0       0.88      0.86      0.87     12500\n",
            "           1       0.86      0.89      0.87     12500\n",
            "\n",
            "    accuracy                           0.87     25000\n",
            "   macro avg       0.87      0.87      0.87     25000\n",
            "weighted avg       0.87      0.87      0.87     25000\n",
            "\n"
          ],
          "name": "stdout"
        }
      ]
    },
    {
      "cell_type": "code",
      "metadata": {
        "id": "9Gtc5nsbFJy0",
        "colab_type": "code",
        "colab": {}
      },
      "source": [
        "cf_matrix = confusion_matrix(y_test, predictions)"
      ],
      "execution_count": 33,
      "outputs": []
    },
    {
      "cell_type": "code",
      "metadata": {
        "id": "OcvuBjdwXbYw",
        "colab_type": "code",
        "colab": {
          "base_uri": "https://localhost:8080/",
          "height": 279
        },
        "outputId": "c9795599-a934-4a37-949b-a22c1a85ca36"
      },
      "source": [
        "group_names = ['Verdadeiro Negativo (VN)','Falso Positivo (FP)','False Negativo (FN)','Verdadeiro Positivo (VP)']\n",
        "group_counts = ['{0:0.0f}'.format(value) for value in\n",
        "                cf_matrix.flatten()]\n",
        "group_percentages = ['{0:.2%}'.format(value) for value in\n",
        "                     cf_matrix.flatten()/np.sum(cf_matrix)]\n",
        "labels = [f'{v1}\\n{v2}\\n{v3}' for v1, v2, v3 in\n",
        "          zip(group_names,group_counts,group_percentages)]\n",
        "labels = np.asarray(labels).reshape(2,2)\n",
        "sns.heatmap(cf_matrix, annot=labels, fmt='', cmap='Blues')\n",
        "plt.xlabel(\"Rótulo Predito\")\n",
        "plt.ylabel(\"Rótulo Real\")\n",
        "plt.show()"
      ],
      "execution_count": 36,
      "outputs": [
        {
          "output_type": "display_data",
          "data": {
            "image/png": "[encoded data removed]",
            "text/plain": [
              "<Figure size 432x288 with 2 Axes>"
            ]
          },
          "metadata": {
            "tags": [],
            "needs_background": "light"
          }
        }
      ]
    },
    {
      "cell_type": "markdown",
      "metadata": {
        "id": "QyzDxIcHydWN",
        "colab_type": "text"
      },
      "source": [
        "# Referência:\n",
        "\n",
        "[Introduction to Machine Learning with Python: A Guide for Data Scientists](https://www.amazon.com.br/Introduction-Machine-Learning-Andreas-Mueller/dp/1449369413),\n",
        "\n",
        "Andreas C. Müller, Sarah Guido"
      ]
    },
    {
      "cell_type": "markdown",
      "metadata": {
        "id": "uXkg1ThlXvhI",
        "colab_type": "text"
      },
      "source": [
        "![](https://drive.google.com/uc?export=view&id=1GBafNzJQziEpaMIpluFpK6xH4-nsb_yr)"
      ]
    }
  ]
}